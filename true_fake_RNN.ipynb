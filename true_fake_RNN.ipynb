{
  "nbformat": 4,
  "nbformat_minor": 0,
  "metadata": {
    "colab": {
      "name": "true_fake_RNN.ipynb",
      "provenance": [],
      "authorship_tag": "ABX9TyOQKgjjdGbhA71uLjG7IJyg",
      "include_colab_link": true
    },
    "kernelspec": {
      "name": "python3",
      "display_name": "Python 3"
    },
    "language_info": {
      "name": "python"
    }
  },
  "cells": [
    {
      "cell_type": "markdown",
      "metadata": {
        "id": "view-in-github",
        "colab_type": "text"
      },
      "source": [
        "<a href=\"https://colab.research.google.com/github/khoaleeeeee/Fake-News-Classification/blob/main/true_fake_RNN.ipynb\" target=\"_parent\"><img src=\"https://colab.research.google.com/assets/colab-badge.svg\" alt=\"Open In Colab\"/></a>"
      ]
    },
    {
      "cell_type": "code",
      "metadata": {
        "id": "tB9PghcDAxZT"
      },
      "source": [
        "import numpy as np \n",
        "import tensorflow as tf\n",
        "import pandas as pd\n",
        "from tensorflow.keras.preprocessing.text import Tokenizer\n",
        "from tensorflow.keras.preprocessing.sequence import pad_sequences\n",
        "from tensorflow.keras.layers import Input, Dense, LSTM, GlobalMaxPool1D, Embedding\n",
        "from tensorflow.keras.models import Model\n",
        "from sklearn.utils import shuffle\n",
        "import matplotlib.pyplot as plt"
      ],
      "execution_count": 5,
      "outputs": []
    },
    {
      "cell_type": "markdown",
      "metadata": {
        "id": "S_omswLFx6ei"
      },
      "source": [
        ""
      ]
    },
    {
      "cell_type": "code",
      "metadata": {
        "id": "kxy16K7WolMZ"
      },
      "source": [
        ""
      ],
      "execution_count": 5,
      "outputs": []
    },
    {
      "cell_type": "code",
      "metadata": {
        "id": "MjrOfDFvCAU5"
      },
      "source": [
        "true_data = pd.read_csv('True.csv')\n",
        "fake_data = pd.read_csv('Fake.csv')"
      ],
      "execution_count": 6,
      "outputs": []
    },
    {
      "cell_type": "code",
      "metadata": {
        "id": "x7fZjuPbCBPx"
      },
      "source": [
        "true_data = true_data.drop(columns=['title', 'subject', 'date'])\n",
        "fake_data = fake_data.drop(columns=['title', 'subject', 'date'])"
      ],
      "execution_count": 7,
      "outputs": []
    },
    {
      "cell_type": "code",
      "metadata": {
        "id": "_HxkKORgCtO3"
      },
      "source": [
        "true_data = true_data.to_numpy()\n",
        "fake_data = fake_data.to_numpy()"
      ],
      "execution_count": 8,
      "outputs": []
    },
    {
      "cell_type": "code",
      "metadata": {
        "id": "UiTpVUTlODw3"
      },
      "source": [
        "N_true = len(true_data)\n",
        "N_fake = len(fake_data)\n",
        "\n",
        "true_data = true_data.reshape(N_true,)\n",
        "fake_data = fake_data.reshape(N_fake,)\n",
        "\n",
        "true_label = np.array([1]*N_true)\n",
        "fake_label = np.array([0]*N_fake)\n",
        "\n",
        "preprocessed_true_data = []\n",
        "\n",
        "for texts in true_data:\n",
        "  i = 0\n",
        "  if '-' in texts:\n",
        "    while texts[i] != '-':\n",
        "      i += 1\n",
        "    texts = texts[i + 2:]\n",
        "  preprocessed_true_data.append(texts)\n",
        "\n",
        "true_data = preprocessed_true_data"
      ],
      "execution_count": 9,
      "outputs": []
    },
    {
      "cell_type": "code",
      "metadata": {
        "id": "J6biDnUnFM5c"
      },
      "source": [
        "true_data = np.array(true_data)"
      ],
      "execution_count": 10,
      "outputs": []
    },
    {
      "cell_type": "code",
      "metadata": {
        "id": "Ou2WUk6wHqKD"
      },
      "source": [
        "X = np.concatenate((true_data, fake_data), axis=0)"
      ],
      "execution_count": 11,
      "outputs": []
    },
    {
      "cell_type": "code",
      "metadata": {
        "id": "--IDPJL8SZry"
      },
      "source": [
        "Y = np.concatenate((true_label, fake_label), axis=0)"
      ],
      "execution_count": 12,
      "outputs": []
    },
    {
      "cell_type": "code",
      "metadata": {
        "id": "QVGGl-de3WI-"
      },
      "source": [
        ""
      ],
      "execution_count": 12,
      "outputs": []
    },
    {
      "cell_type": "code",
      "metadata": {
        "id": "H5mwQ4P3JxcR"
      },
      "source": [
        "X, Y = shuffle(X, Y)"
      ],
      "execution_count": 13,
      "outputs": []
    },
    {
      "cell_type": "code",
      "metadata": {
        "id": "F2bUbd4m3T0D"
      },
      "source": [
        ""
      ],
      "execution_count": 13,
      "outputs": []
    },
    {
      "cell_type": "code",
      "metadata": {
        "id": "0C0BT1r6LGuW"
      },
      "source": [
        "Xtrain = X[:-10000]\n",
        "Ytrain = Y[:-10000]\n",
        "\n",
        "Xtest = X[-10000:]\n",
        "Ytest = Y[-10000:]"
      ],
      "execution_count": 14,
      "outputs": []
    },
    {
      "cell_type": "code",
      "metadata": {
        "id": "tRV_x-Q9Lu_0"
      },
      "source": [
        "MAX_VOCAB_SIZE = 20000\n",
        "tokenizer = Tokenizer(num_words=MAX_VOCAB_SIZE)\n",
        "tokenizer.fit_on_texts(Xtrain)\n",
        "sequences_train = tokenizer.texts_to_sequences(Xtrain)\n",
        "sequences_test = tokenizer.texts_to_sequences(Xtest)"
      ],
      "execution_count": 15,
      "outputs": []
    },
    {
      "cell_type": "code",
      "metadata": {
        "colab": {
          "base_uri": "https://localhost:8080/"
        },
        "id": "P0nTiIFZOntA",
        "outputId": "082a213e-a7d4-4e4a-eaf1-302fbcc9717b"
      },
      "source": [
        "word2idx = tokenizer.word_index\n",
        "V = len(word2idx)\n",
        "print(\"Number of unique tokens:\", V)"
      ],
      "execution_count": 16,
      "outputs": [
        {
          "output_type": "stream",
          "text": [
            "Number of unique tokens: 123871\n"
          ],
          "name": "stdout"
        }
      ]
    },
    {
      "cell_type": "code",
      "metadata": {
        "id": "esjsjmctUV35"
      },
      "source": [
        "data_train = pad_sequences(sequences_train)"
      ],
      "execution_count": 17,
      "outputs": []
    },
    {
      "cell_type": "code",
      "metadata": {
        "id": "beruRa5vUd7y"
      },
      "source": [
        "T = data_train.shape[1]"
      ],
      "execution_count": 18,
      "outputs": []
    },
    {
      "cell_type": "code",
      "metadata": {
        "id": "LOx6nm9cVl2Z"
      },
      "source": [
        "data_test = pad_sequences(sequences_test, maxlen=T)"
      ],
      "execution_count": 19,
      "outputs": []
    },
    {
      "cell_type": "code",
      "metadata": {
        "id": "0S0vPQKlVxZV"
      },
      "source": [
        "# buil the model\n",
        "# embedding dimensionality\n",
        "D = 20\n",
        "# hidden layer dimensionality\n",
        "M = 15\n",
        "\n",
        "i = Input(shape=(T,))\n",
        "x = Embedding(V + 1, D)(i)\n",
        "x = LSTM(M, return_sequences=True)(x)\n",
        "x = GlobalMaxPool1D()(x)\n",
        "x = Dense(1, activation='sigmoid')(x)\n",
        "\n",
        "model = Model(i, x)"
      ],
      "execution_count": 20,
      "outputs": []
    },
    {
      "cell_type": "code",
      "metadata": {
        "id": "cKgFIL4DXI0h"
      },
      "source": [
        "model.compile(optimizer='adam', loss='binary_crossentropy', metrics=['accuracy'])"
      ],
      "execution_count": 21,
      "outputs": []
    },
    {
      "cell_type": "code",
      "metadata": {
        "colab": {
          "base_uri": "https://localhost:8080/"
        },
        "id": "TPyZq_E9XjZ9",
        "outputId": "a5d443d3-8e2f-4aa3-e0f2-8af4f08d051b"
      },
      "source": [
        "r = model.fit(data_train, Ytrain, validation_data=(data_test, Ytest), epochs=10, batch_size=1000)"
      ],
      "execution_count": 22,
      "outputs": [
        {
          "output_type": "stream",
          "text": [
            "Epoch 1/10\n",
            "35/35 [==============================] - 813s 23s/step - loss: 0.6791 - accuracy: 0.5489 - val_loss: 0.6384 - val_accuracy: 0.6552\n",
            "Epoch 2/10\n",
            "35/35 [==============================] - 820s 23s/step - loss: 0.5507 - accuracy: 0.8131 - val_loss: 0.4478 - val_accuracy: 0.9410\n",
            "Epoch 3/10\n",
            "35/35 [==============================] - 838s 24s/step - loss: 0.3847 - accuracy: 0.9534 - val_loss: 0.2773 - val_accuracy: 0.9679\n",
            "Epoch 4/10\n",
            "35/35 [==============================] - 841s 24s/step - loss: 0.2418 - accuracy: 0.9654 - val_loss: 0.2316 - val_accuracy: 0.9585\n",
            "Epoch 5/10\n",
            "35/35 [==============================] - 833s 24s/step - loss: 0.1931 - accuracy: 0.9698 - val_loss: 0.1590 - val_accuracy: 0.9702\n",
            "Epoch 6/10\n",
            "35/35 [==============================] - 828s 24s/step - loss: 0.1300 - accuracy: 0.9829 - val_loss: 0.1239 - val_accuracy: 0.9892\n",
            "Epoch 7/10\n",
            "35/35 [==============================] - 830s 24s/step - loss: 0.1024 - accuracy: 0.9946 - val_loss: 0.1089 - val_accuracy: 0.9878\n",
            "Epoch 8/10\n",
            "35/35 [==============================] - 820s 23s/step - loss: 0.0853 - accuracy: 0.9954 - val_loss: 0.0938 - val_accuracy: 0.9896\n",
            "Epoch 9/10\n",
            "35/35 [==============================] - 826s 24s/step - loss: 0.0730 - accuracy: 0.9961 - val_loss: 0.0863 - val_accuracy: 0.9892\n",
            "Epoch 10/10\n",
            "35/35 [==============================] - 844s 24s/step - loss: 0.0637 - accuracy: 0.9965 - val_loss: 0.0830 - val_accuracy: 0.9887\n"
          ],
          "name": "stdout"
        }
      ]
    },
    {
      "cell_type": "code",
      "metadata": {
        "colab": {
          "base_uri": "https://localhost:8080/",
          "height": 283
        },
        "id": "h1kYZlDgXwU3",
        "outputId": "cadf8388-b3ea-48a3-ad42-4642f961ddea"
      },
      "source": [
        "plt.plot(r.history['loss'], label='loss')\n",
        "plt.plot(r.history['val_loss'], label='val_loss')\n",
        "plt.legend()"
      ],
      "execution_count": 23,
      "outputs": [
        {
          "output_type": "execute_result",
          "data": {
            "text/plain": [
              "<matplotlib.legend.Legend at 0x7fb5d8d08990>"
            ]
          },
          "metadata": {
            "tags": []
          },
          "execution_count": 23
        },
        {
          "output_type": "display_data",
          "data": {
            "image/png": "[encoded data removed]",
            "text/plain": [
              "<Figure size 432x288 with 1 Axes>"
            ]
          },
          "metadata": {
            "tags": [],
            "needs_background": "light"
          }
        }
      ]
    },
    {
      "cell_type": "code",
      "metadata": {
        "id": "1NZprV7CYmhz"
      },
      "source": [
        ""
      ],
      "execution_count": 28,
      "outputs": []
    },
    {
      "cell_type": "code",
      "metadata": {
        "id": "_kRoS9kMZdpy"
      },
      "source": [
        ""
      ],
      "execution_count": 28,
      "outputs": []
    },
    {
      "cell_type": "code",
      "metadata": {
        "id": "ih1yDp_ynRL-"
      },
      "source": [
        ""
      ],
      "execution_count": 28,
      "outputs": []
    },
    {
      "cell_type": "code",
      "metadata": {
        "id": "tn7iD9xq5mP6"
      },
      "source": [
        ""
      ],
      "execution_count": 23,
      "outputs": []
    },
    {
      "cell_type": "code",
      "metadata": {
        "id": "cchP26n6C6sC"
      },
      "source": [
        ""
      ],
      "execution_count": 23,
      "outputs": []
    },
    {
      "cell_type": "code",
      "metadata": {
        "id": "GBoO35b9DCR5"
      },
      "source": [
        ""
      ],
      "execution_count": 23,
      "outputs": []
    },
    {
      "cell_type": "code",
      "metadata": {
        "id": "qk1NJHI-EV9n"
      },
      "source": [
        ""
      ],
      "execution_count": 23,
      "outputs": []
    },
    {
      "cell_type": "code",
      "metadata": {
        "id": "FjimJNHZEXYI"
      },
      "source": [
        ""
      ],
      "execution_count": 23,
      "outputs": []
    }
  ]
}